{
 "cells": [
  {
   "cell_type": "code",
   "execution_count": null,
   "metadata": {},
   "outputs": [],
   "source": [
    "import matplotlib.pyplot as plt\n",
    "\n",
    "\n",
    "\n",
    "def plot_pixel_array(dataset, figsize=(10,10)):\n",
    "    plt.figure(figsize=figsize)\n",
    "    plt.imshow(dataset.pixel_array, cmap=plt.cm.bone)\n",
    "    plt.show()\n",
    "    \n",
    "df_full = pd.read_csv('train-rle.csv', index_col='ImageId')"
   ]
  },
  {
   "cell_type": "code",
   "execution_count": null,
   "metadata": {},
   "outputs": [],
   "source": [
    "im_height = 1024\n",
    "im_width = 1024\n",
    "im_chan = 1\n",
    "# Get train images and masks\n",
    "X_train = np.zeros((len(train_fns), im_height, im_width, im_chan), dtype=np.uint8)\n",
    "Y_train = np.zeros((len(train_fns), im_height, im_width, 1), dtype=np.bool)\n",
    "print('Getting train images and masks ... ')\n",
    "sys.stdout.flush()\n",
    "for n, _id in tqdm_notebook(enumerate(train_fns), total=len(train_fns)):\n",
    "    dataset = pydicom.read_file(_id)\n",
    "    X_train[n] = np.expand_dims(dataset.pixel_array, axis=2)\n",
    "    try:\n",
    "        if '-1' in df_full.loc[_id.split('/')[-1][:-4],' EncodedPixels']:\n",
    "            Y_train[n] = np.zeros((1024, 1024, 1))\n",
    "        else:\n",
    "            if type(df_full.loc[_id.split('/')[-1][:-4],' EncodedPixels']) == str:\n",
    "                Y_train[n] = np.expand_dims(rle2mask(df_full.loc[_id.split('/')[-1][:-4],' EncodedPixels'], 1024, 1024), axis=2)\n",
    "            else:\n",
    "                Y_train[n] = np.zeros((1024, 1024, 1))\n",
    "                for x in df_full.loc[_id.split('/')[-1][:-4],' EncodedPixels']:\n",
    "                    Y_train[n] =  Y_train[n] + np.expand_dims(rle2mask(x, 1024, 1024), axis=2)\n",
    "    except KeyError:\n",
    "        print(f\"Key {_id.split('/')[-1][:-4]} without mask, assuming healthy patient.\")\n",
    "        Y_train[n] = np.zeros((1024, 1024, 1)) # Assume missing masks are empty masks.\n",
    "\n",
    "print('Done!')\n"
   ]
  },
  {
   "cell_type": "code",
   "execution_count": null,
   "metadata": {},
   "outputs": [],
   "source": [
    "im_height = 128\n",
    "im_width = 128\n",
    "X_train = X_train.reshape((-1, im_height, im_width, 1))\n",
    "Y_train = Y_train.reshape((-1, im_height, im_width, 1))"
   ]
  },
  {
   "cell_type": "code",
   "execution_count": null,
   "metadata": {},
   "outputs": [],
   "source": [
    "def dice_coef(y_true, y_pred, smooth=1):\n",
    "    y_true_f = K.flatten(y_true)\n",
    "    y_pred_f = K.flatten(y_pred)\n",
    "    intersection = K.sum(y_true_f * y_pred_f)\n",
    "    return (2. * intersection + smooth) / (K.sum(y_true_f) + K.sum(y_pred_f) + smooth)"
   ]
  },
  {
   "cell_type": "code",
   "execution_count": null,
   "metadata": {},
   "outputs": [],
   "source": [
    "inputs = Input((None, None, im_chan))\n",
    "\n",
    "c1 = Conv2D(8, (3, 3), activation='relu', padding='same') (inputs)\n",
    "c1 = Conv2D(8, (3, 3), activation='relu', padding='same') (c1)\n",
    "p1 = MaxPooling2D((2, 2)) (c1)\n",
    "\n",
    "c2 = Conv2D(16, (3, 3), activation='relu', padding='same') (p1)\n",
    "c2 = Conv2D(16, (3, 3), activation='relu', padding='same') (c2)\n",
    "p2 = MaxPooling2D((2, 2)) (c2)\n",
    "\n",
    "c3 = Conv2D(32, (3, 3), activation='relu', padding='same') (p2)\n",
    "c3 = Conv2D(32, (3, 3), activation='relu', padding='same') (c3)\n",
    "p3 = MaxPooling2D((2, 2)) (c3)\n",
    "\n",
    "c4 = Conv2D(64, (3, 3), activation='relu', padding='same') (p3)\n",
    "c4 = Conv2D(64, (3, 3), activation='relu', padding='same') (c4)\n",
    "p4 = MaxPooling2D(pool_size=(2, 2)) (c4)\n",
    "\n",
    "c5 = Conv2D(64, (3, 3), activation='relu', padding='same') (p4)\n",
    "c5 = Conv2D(64, (3, 3), activation='relu', padding='same') (c5)\n",
    "p5 = MaxPooling2D(pool_size=(2, 2)) (c5)\n",
    "\n",
    "c55 = Conv2D(128, (3, 3), activation='relu', padding='same') (p5)\n",
    "c55 = Conv2D(128, (3, 3), activation='relu', padding='same') (c55)\n",
    "\n",
    "u6 = Conv2DTranspose(64, (2, 2), strides=(2, 2), padding='same') (c55)\n",
    "u6 = concatenate([u6, c5])\n",
    "c6 = Conv2D(64, (3, 3), activation='relu', padding='same') (u6)\n",
    "c6 = Conv2D(64, (3, 3), activation='relu', padding='same') (c6)\n",
    "\n",
    "u71 = Conv2DTranspose(32, (2, 2), strides=(2, 2), padding='same') (c6)\n",
    "u71 = concatenate([u71, c4])\n",
    "c71 = Conv2D(32, (3, 3), activation='relu', padding='same') (u71)\n",
    "c61 = Conv2D(32, (3, 3), activation='relu', padding='same') (c71)\n",
    "\n",
    "u7 = Conv2DTranspose(32, (2, 2), strides=(2, 2), padding='same') (c61)\n",
    "u7 = concatenate([u7, c3])\n",
    "c7 = Conv2D(32, (3, 3), activation='relu', padding='same') (u7)\n",
    "c7 = Conv2D(32, (3, 3), activation='relu', padding='same') (c7)\n",
    "\n",
    "u8 = Conv2DTranspose(16, (2, 2), strides=(2, 2), padding='same') (c7)\n",
    "u8 = concatenate([u8, c2])\n",
    "c8 = Conv2D(16, (3, 3), activation='relu', padding='same') (u8)\n",
    "c8 = Conv2D(16, (3, 3), activation='relu', padding='same') (c8)\n",
    "\n",
    "u9 = Conv2DTranspose(8, (2, 2), strides=(2, 2), padding='same') (c8)\n",
    "u9 = concatenate([u9, c1], axis=3)\n",
    "c9 = Conv2D(8, (3, 3), activation='relu', padding='same') (u9)\n",
    "c9 = Conv2D(8, (3, 3), activation='relu', padding='same') (c9)\n",
    "\n",
    "outputs = Conv2D(1, (1, 1), activation='sigmoid') (c9)\n",
    "\n",
    "model = Model(inputs=[inputs], outputs=[outputs])\n",
    "model.compile(optimizer='adam', loss='binary_crossentropy', metrics=[dice_coef])\n",
    "model.summary()"
   ]
  },
  {
   "cell_type": "code",
   "execution_count": null,
   "metadata": {},
   "outputs": [],
   "source": [
    "model.fit(X_train, Y_train, validation_split=.2, batch_size=512, epochs=30)"
   ]
  }
 ],
 "metadata": {
  "kernelspec": {
   "display_name": "Python 3",
   "language": "python",
   "name": "python3"
  },
  "language_info": {
   "codemirror_mode": {
    "name": "ipython",
    "version": 3
   },
   "file_extension": ".py",
   "mimetype": "text/x-python",
   "name": "python",
   "nbconvert_exporter": "python",
   "pygments_lexer": "ipython3",
   "version": "3.6.5"
  }
 },
 "nbformat": 4,
 "nbformat_minor": 2
}
